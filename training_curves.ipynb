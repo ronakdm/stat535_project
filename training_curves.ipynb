{
 "cells": [
  {
   "cell_type": "code",
   "execution_count": 1,
   "id": "f2d32971",
   "metadata": {},
   "outputs": [],
   "source": [
    "import numpy as np\n",
    "import pickle"
   ]
  },
  {
   "cell_type": "code",
   "execution_count": 3,
   "id": "14ca778d",
   "metadata": {},
   "outputs": [
    {
     "name": "stdout",
     "output_type": "stream",
     "text": [
      "(32,)\n"
     ]
    }
   ],
   "source": [
    "training_loss = np.array([\n",
    "    270278.99,\n",
    "    33250.69,\n",
    "    28641.50,\n",
    "    26450.50,\n",
    "    24291.13,\n",
    "    23244.45,\n",
    "    21919.10,\n",
    "    20578.37,\n",
    "    18693.10,\n",
    "    16523.48,\n",
    "    14998.27,\n",
    "    13797.88,\n",
    "    12614.42,\n",
    "    11359.48,\n",
    "    10483.56,\n",
    "    9532.11,\n",
    "    8779.17,\n",
    "    8364.14,\n",
    "    7454.39,\n",
    "    7144.02,\n",
    "    6492.46,\n",
    "    6263.01,\n",
    "    5832.74,\n",
    "    5717.88,\n",
    "    5423.78,\n",
    "    5243.90,\n",
    "    5161.46,\n",
    "    4931.14,\n",
    "    4735.87,\n",
    "    4795.82,\n",
    "    4616.64,\n",
    "    4488.92\n",
    "])\n",
    "\n",
    "print(training_loss.shape)\n",
    "pickle.dump(training_loss, open(\"training_loss.pkl\", \"wb\"))"
   ]
  },
  {
   "cell_type": "code",
   "execution_count": 4,
   "id": "485c62e3",
   "metadata": {},
   "outputs": [
    {
     "name": "stdout",
     "output_type": "stream",
     "text": [
      "(32,)\n"
     ]
    }
   ],
   "source": [
    "valid_loss = np.array([\n",
    "    39414.66,\n",
    "    32824.59,\n",
    "    27190.82,\n",
    "    25651.73,\n",
    "    22910.98,\n",
    "    21807.05,\n",
    "    20633.48,\n",
    "    20020.49,\n",
    "    17079.86,\n",
    "    16008.97,\n",
    "    18188.14,\n",
    "    12553.59,\n",
    "    12186.37,\n",
    "    11104.12,\n",
    "    10281.92,\n",
    "    8604.01,\n",
    "    9949.22,\n",
    "    9847.33,\n",
    "    8084.37,\n",
    "    8318.49,\n",
    "    7059.90,\n",
    "    5983.41,\n",
    "    5808.17,\n",
    "    5470.44,\n",
    "    5789.06,\n",
    "    5921.53,\n",
    "    6255.68,\n",
    "    5619.22,\n",
    "    4826.37,\n",
    "    5872.93,\n",
    "    5936.66,\n",
    "    4914.58\n",
    "])\n",
    "\n",
    "print(valid_loss.shape)\n",
    "pickle.dump(valid_loss, open(\"valid_loss.pkl\", \"wb\"))"
   ]
  },
  {
   "cell_type": "code",
   "execution_count": null,
   "id": "8dd8a681",
   "metadata": {},
   "outputs": [],
   "source": [
    "valid_ci = np.array([\n",
    "    3522.60,\n",
    "    3486.29,\n",
    "    2966.30,\n",
    "    2982.62,\n",
    "    2543.26,\n",
    "    2797.56,\n",
    "    2527.42,\n",
    "    2379.28,\n",
    "    2134.39,\n",
    "    2268.13,\n",
    "    1993.03,\n",
    "    1787.94,\n",
    "    1764.48,\n",
    "    1436.24,\n",
    "    1507.47,\n",
    "    1333.53,\n",
    "    1255.80,\n",
    "    1212.57,\n",
    "    1148.98,\n",
    "    1190.89,\n",
    "    1118.16,\n",
    "    941.46,\n",
    "    1087.71,\n",
    "    1115.71,\n",
    "    1025.45,\n",
    "    1110.60,\n",
    "    1042.67,\n",
    "    896.41,\n",
    "    1092.52,\n",
    "    972.09,\n",
    "    984.34,\n",
    "    1014.16\n",
    "])\n",
    "\n",
    "print(valid_ci.shape)\n",
    "pickle.dump(valid_ci, open(\"valid_ci.pkl\", \"wb\"))"
   ]
  }
 ],
 "metadata": {
  "kernelspec": {
   "display_name": "Python 3",
   "language": "python",
   "name": "python3"
  },
  "language_info": {
   "codemirror_mode": {
    "name": "ipython",
    "version": 3
   },
   "file_extension": ".py",
   "mimetype": "text/x-python",
   "name": "python",
   "nbconvert_exporter": "python",
   "pygments_lexer": "ipython3",
   "version": "3.8.8"
  }
 },
 "nbformat": 4,
 "nbformat_minor": 5
}
