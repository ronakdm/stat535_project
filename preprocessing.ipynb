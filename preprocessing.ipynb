{
 "cells": [
  {
   "cell_type": "code",
   "execution_count": 1,
   "id": "c9558b4e",
   "metadata": {},
   "outputs": [],
   "source": [
    "import pickle\n",
    "import pandas as pd\n",
    "import numpy as np\n",
    "import torch\n",
    "\n",
    "from sklearn.preprocessing import StandardScaler"
   ]
  },
  {
   "cell_type": "code",
   "execution_count": 2,
   "id": "f89d0e8e",
   "metadata": {},
   "outputs": [
    {
     "name": "stdout",
     "output_type": "stream",
     "text": [
      "<class 'pandas.core.frame.DataFrame'>\n",
      "<class 'pandas.core.frame.DataFrame'>\n"
     ]
    }
   ],
   "source": [
    "X_train = pickle.load(open(\"data/X_train.pkl\", \"rb\"))\n",
    "y_train = pickle.load(open(\"data/y_train.pkl\", \"rb\"))\n",
    "\n",
    "print(type(X_train))\n",
    "print(type(y_train))"
   ]
  },
  {
   "cell_type": "code",
   "execution_count": 3,
   "id": "917501c5",
   "metadata": {},
   "outputs": [
    {
     "name": "stdout",
     "output_type": "stream",
     "text": [
      "<class 'pandas.core.frame.DataFrame'>\n",
      "Int64Index: 50000 entries, 46171 to 56422\n",
      "Data columns (total 11 columns):\n",
      " #   Column         Non-Null Count  Dtype  \n",
      "---  ------         --------------  -----  \n",
      " 0   t_state        50000 non-null  object \n",
      " 1   t_county       50000 non-null  object \n",
      " 2   p_year         50000 non-null  int64  \n",
      " 3   retrofit       50000 non-null  int64  \n",
      " 4   retrofit_year  4636 non-null   float64\n",
      " 5   t_hh           50000 non-null  float64\n",
      " 6   t_rd           49999 non-null  float64\n",
      " 7   t_rsa          49999 non-null  float64\n",
      " 8   t_ttlh         49999 non-null  float64\n",
      " 9   xlong          50000 non-null  float64\n",
      " 10  ylat           50000 non-null  float64\n",
      "dtypes: float64(7), int64(2), object(2)\n",
      "memory usage: 4.6+ MB\n"
     ]
    }
   ],
   "source": [
    "X_train.info(verbose=True)"
   ]
  },
  {
   "cell_type": "code",
   "execution_count": 4,
   "id": "e821ef9e",
   "metadata": {},
   "outputs": [
    {
     "name": "stdout",
     "output_type": "stream",
     "text": [
      "<class 'pandas.core.frame.DataFrame'>\n",
      "Int64Index: 50000 entries, 46171 to 56422\n",
      "Data columns (total 1 columns):\n",
      " #   Column  Non-Null Count  Dtype\n",
      "---  ------  --------------  -----\n",
      " 0   t_cap   50000 non-null  int64\n",
      "dtypes: int64(1)\n",
      "memory usage: 781.2 KB\n"
     ]
    }
   ],
   "source": [
    "y_train.info(verbose=True)"
   ]
  },
  {
   "cell_type": "code",
   "execution_count": 5,
   "id": "fbc40d49",
   "metadata": {},
   "outputs": [],
   "source": [
    "idx = X_train.notna()"
   ]
  },
  {
   "cell_type": "code",
   "execution_count": 6,
   "id": "acb4dee6",
   "metadata": {},
   "outputs": [
    {
     "name": "stdout",
     "output_type": "stream",
     "text": [
      "<class 'pandas.core.frame.DataFrame'>\n",
      "Int64Index: 49999 entries, 46171 to 56422\n",
      "Data columns (total 10 columns):\n",
      " #   Column    Non-Null Count  Dtype  \n",
      "---  ------    --------------  -----  \n",
      " 0   t_state   49999 non-null  object \n",
      " 1   t_county  49999 non-null  object \n",
      " 2   p_year    49999 non-null  int64  \n",
      " 3   retrofit  49999 non-null  int64  \n",
      " 4   t_hh      49999 non-null  float64\n",
      " 5   t_rd      49999 non-null  float64\n",
      " 6   t_rsa     49999 non-null  float64\n",
      " 7   t_ttlh    49999 non-null  float64\n",
      " 8   xlong     49999 non-null  float64\n",
      " 9   ylat      49999 non-null  float64\n",
      "dtypes: float64(6), int64(2), object(2)\n",
      "memory usage: 4.2+ MB\n"
     ]
    }
   ],
   "source": [
    "X_df = X_train.drop(columns=[\"retrofit_year\"])\n",
    "idx = np.all(X_df.notna(), axis=1)\n",
    "X_df = X_df.loc[idx]\n",
    "y_df = y_train.loc[idx]\n",
    "X_df.info()"
   ]
  },
  {
   "cell_type": "code",
   "execution_count": 7,
   "id": "f93d0748",
   "metadata": {},
   "outputs": [
    {
     "data": {
      "text/plain": [
       "array(['AK', 'AZ', 'CA', 'CO', 'CT', 'HI', 'IA', 'ID', 'IL', 'IN', 'KS',\n",
       "       'MA', 'MD', 'ME', 'MI', 'MN', 'MO', 'MT', 'NC', 'ND', 'NE', 'NH',\n",
       "       'NJ', 'NM', 'NV', 'NY', 'OH', 'OK', 'OR', 'PA', 'PR', 'RI', 'SD',\n",
       "       'TN', 'TX', 'UT', 'VA', 'VT', 'WA', 'WI', 'WV', 'WY'], dtype=object)"
      ]
     },
     "execution_count": 7,
     "metadata": {},
     "output_type": "execute_result"
    }
   ],
   "source": [
    "np.unique(X_df[\"t_state\"])"
   ]
  },
  {
   "cell_type": "code",
   "execution_count": 8,
   "id": "4fa45181",
   "metadata": {},
   "outputs": [
    {
     "data": {
      "text/plain": [
       "array(['Adair County', 'Adams County', 'Alameda County', 'Albany County',\n",
       "       'Aleutians East Borough', 'Aleutians West Census Area',\n",
       "       'Alfalfa County', 'Allen County', 'Anderson County',\n",
       "       'Andrews County', 'Antelope County', 'Archer County',\n",
       "       'Armstrong County', 'Aroostook County', 'Atchison County',\n",
       "       'Atlantic County', 'Audubon County', 'Aurora County',\n",
       "       'Baca County', 'Bailey County', 'Baker County', 'Barber County',\n",
       "       'Barbour County', 'Barnes County', 'Barnstable County',\n",
       "       'Barton County', 'Baylor County', 'Beaver County', 'Becker County',\n",
       "       'Beckham County', 'Bee County', 'Bennington County', 'Bent County',\n",
       "       'Benton County', 'Berkshire County', 'Bethel Census Area',\n",
       "       'Bingham County', 'Blaine County', 'Blair County',\n",
       "       'Bon Homme County', 'Bonneville County', 'Boone County',\n",
       "       'Borden County', 'Bowman County', 'Bradford County',\n",
       "       'Briscoe County', 'Bristol County', 'Brookings County',\n",
       "       'Brown County', 'Brule County', 'Buena Vista County',\n",
       "       'Bureau County', 'Burke County', 'Burleigh County',\n",
       "       'Butler County', 'Butte County', 'Caddo County',\n",
       "       'Caledonia County', 'Calhoun County', 'Callahan County',\n",
       "       'Cambria County', 'Cameron County', 'Campbell County',\n",
       "       'Canadian County', 'Carbon County', 'Carroll County',\n",
       "       'Carson County', 'Carter County', 'Cascade County', 'Cass County',\n",
       "       'Cassia County', 'Castro County', 'Cavalier County',\n",
       "       'Cedar County', 'Ceiba Municipio', 'Centre County',\n",
       "       'Cerro Gordo County', 'Champaign County', 'Charles Mix County',\n",
       "       'Chautauqua County', 'Chaves County', 'Cherokee County',\n",
       "       'Cheyenne County', 'Chippewa County', 'Chittenden County',\n",
       "       'Cibola County', 'Clark County', 'Clay County', 'Clinton County',\n",
       "       'Cloud County', 'Cochise County', 'Cochran County',\n",
       "       'Coconino County', 'Codington County', 'Coffey County',\n",
       "       'Coke County', 'Columbia County', 'Comanche County',\n",
       "       'Concho County', 'Contra Costa County', 'Converse County',\n",
       "       'Cooke County', 'Coos County', 'Cottonwood County',\n",
       "       'Crawford County', 'Crockett County', 'Crosby County',\n",
       "       'Curry County', 'Custer County', 'Cuyahoga County', 'Dade County',\n",
       "       'Dallas County', 'Dane County', 'Darke County', 'Dawson County',\n",
       "       'Day County', 'De Baca County', 'DeKalb County',\n",
       "       'Deaf Smith County', 'Delaware County', 'Delta County',\n",
       "       'Denali Borough', 'Denton County', 'Deuel County', 'Dewey County',\n",
       "       'Dickens County', 'Dickey County', 'Dickinson County',\n",
       "       'Dixon County', 'Dodge County', 'Donley County', 'Douglas County',\n",
       "       'Duval County', 'Eastland County', 'Ector County',\n",
       "       'El Paso County', 'Elbert County', 'Elk County', 'Ellis County',\n",
       "       'Ellsworth County', 'Elmore County', 'Emmet County',\n",
       "       'Emmons County', 'Erath County', 'Erie County', 'Essex County',\n",
       "       'Fallon County', 'Faribault County', 'Fayette County',\n",
       "       'Fillmore County', 'Fisher County', 'Floyd County', 'Foard County',\n",
       "       'Fond du Lac County', 'Ford County', 'Franklin County',\n",
       "       'Freeborn County', 'Gage County', 'Garfield County',\n",
       "       'Garrett County', 'Garza County', 'Gentry County',\n",
       "       'Gilliam County', 'Glacier County', 'Glasscock County',\n",
       "       'Grady County', 'Grafton County', 'Grant County', 'Gratiot County',\n",
       "       'Gray County', 'Grays Harbor County', 'Greenbrier County',\n",
       "       'Greene County', 'Griggs County', 'Grundy County',\n",
       "       'Guadalupe County', 'Guthrie County', 'Hale County',\n",
       "       'Hamilton County', 'Hampden County', 'Hancock County',\n",
       "       'Hand County', 'Hansford County', 'Hardeman County',\n",
       "       'Hardin County', 'Harper County', 'Hartley County',\n",
       "       'Haskell County', 'Hawaii County', 'Hemphill County',\n",
       "       'Henry County', 'Herkimer County', 'Hettinger County',\n",
       "       'Hidalgo County', 'Hillsborough County', 'Hillsdale County',\n",
       "       'Holt County', 'Honolulu County', 'Howard County',\n",
       "       'Huerfano County', 'Huron County', 'Hutchinson County',\n",
       "       'Hyde County', 'Ida County', 'Imperial County', 'Iowa County',\n",
       "       'Irion County', 'Iroquois County', 'Isabella County',\n",
       "       'Jack County', 'Jackson County', 'Jasper County', 'Jay County',\n",
       "       'Jefferson County', 'Jerauld County', 'Jim Hogg County',\n",
       "       'Johnston County', 'Judith Basin County', 'Kandiyohi County',\n",
       "       'Kankakee County', 'Kay County', 'Kenai Peninsula Borough',\n",
       "       'Kenedy County', 'Kent County', 'Kern County', 'Kewaunee County',\n",
       "       'Keya Paha County', 'Kimball County', 'Kingfisher County',\n",
       "       'Kingman County', 'Kinney County', 'Kiowa County',\n",
       "       'Kit Carson County', 'Kittitas County', 'Klickitat County',\n",
       "       'Knox County', 'Kodiak Island Borough', 'Kossuth County',\n",
       "       'LaMoure County', 'LaSalle County', 'Lafayette County',\n",
       "       'Lamb County', 'Laramie County', 'Las Animas County',\n",
       "       'Lawrence County', 'Lea County', 'Lee County', 'Lewis County',\n",
       "       'Limestone County', 'Lincoln County', 'Litchfield County',\n",
       "       'Livingston County', 'Logan County', 'Los Angeles County',\n",
       "       'Lubbock County', 'Luna County', 'Luzerne County',\n",
       "       'Lycoming County', 'Lynn County', 'Lyon County', 'Macon County',\n",
       "       'Madison County', 'Mahaska County', 'Major County',\n",
       "       'Marion County', 'Marshall County', 'Martin County',\n",
       "       'Mason County', 'Matagorda County', 'Matanuska-Susitna Borough',\n",
       "       'Maui County', 'McCulloch County', 'McDonough County',\n",
       "       'McHenry County', 'McIntosh County', 'McLean County',\n",
       "       'McLennan County', 'McPherson County', 'Meagher County',\n",
       "       'Meeker County', 'Mercer County', 'Millard County', 'Mills County',\n",
       "       'Mineral County', 'Missaukee County', 'Mitchell County',\n",
       "       'Mohave County', 'Monroe County', 'Moore County', 'Morrow County',\n",
       "       'Morton County', 'Mower County', 'Murray County',\n",
       "       'Naguabo Municipio', 'Natrona County', 'Navajo County',\n",
       "       'Nemaha County', 'Neosho County', 'Ness County', 'Noble County',\n",
       "       'Nobles County', 'Nodaway County', 'Nolan County',\n",
       "       'Nome Census Area', 'Northampton County',\n",
       "       'Northwest Arctic Borough', 'Nueces County', \"O'Brien County\",\n",
       "       'Ochiltree County', 'Oldham County', 'Oliver County',\n",
       "       'Oneida County', 'Ontario County', 'Orleans County',\n",
       "       'Osage County', 'Osceola County', 'Oxford County',\n",
       "       'Pacific County', 'Palo Alto County', 'Parmer County',\n",
       "       'Pasquotank County', 'Paulding County', 'Pecos County',\n",
       "       'Penobscot County', 'Perquimans County', 'Pierce County',\n",
       "       'Pipestone County', 'Piscataquis County', 'Platte County',\n",
       "       'Plymouth County', 'Pocahontas County', 'Pontotoc County',\n",
       "       'Pottawattamie County', 'Potter County', 'Power County',\n",
       "       'Poweshiek County', 'Pratt County', 'Preston County',\n",
       "       'Providence County', 'Prowers County', 'Pushmataha County',\n",
       "       'Quay County', 'Racine County', 'Randall County',\n",
       "       'Randolph County', 'Reagan County', 'Refugio County',\n",
       "       'Richardson County', 'Riverside County', 'Roberts County',\n",
       "       'Rock County', 'Roger Mills County', 'Rolette County',\n",
       "       'Roosevelt County', 'Rush County', 'Sac County', 'Saginaw County',\n",
       "       'Saline County', 'San Bernardino County', 'San Diego County',\n",
       "       'San Joaquin County', 'San Juan County', 'San Patricio County',\n",
       "       'Sanilac County', 'Santa Isabel Municipio', 'Schleicher County',\n",
       "       'Schuyler County', 'Schuylkill County', 'Scurry County',\n",
       "       'Shackelford County', 'Shasta County', 'Sherman County',\n",
       "       'Solano County', 'Somerset County', 'St. Louis County',\n",
       "       'Stark County', 'Starr County', 'Stearns County', 'Steele County',\n",
       "       'Stephens County', 'Stephenson County', 'Sterling County',\n",
       "       'Steuben County', 'Stillwater County', 'Stonewall County',\n",
       "       'Story County', 'Stutsman County', 'Suffolk County',\n",
       "       'Sullivan County', 'Sumner County', 'Sweet Grass County',\n",
       "       'Tama County', 'Taylor County', 'Tazewell County', 'Teton County',\n",
       "       'Texas County', 'Thomas County', 'Tioga County', 'Tipton County',\n",
       "       'Tom Green County', 'Toole County', 'Torrance County',\n",
       "       'Trego County', 'Tucker County', 'Tuscola County',\n",
       "       'Twin Falls County', 'Uinta County', 'Umatilla County',\n",
       "       'Union County', 'Upton County', 'Utah County', 'Val Verde County',\n",
       "       'Van Wert County', 'Vermilion County', 'Wade Hampton Census Area',\n",
       "       'Waldo County', 'Walla Walla County', 'Ward County',\n",
       "       'Warren County', 'Washington County', 'Washita County',\n",
       "       'Watonwan County', 'Wayne County', 'Webb County', 'Webster County',\n",
       "       'Weld County', 'Wheatland County', 'White County',\n",
       "       'White Pine County', 'Whiteside County', 'Whitman County',\n",
       "       'Wichita County', 'Wilbarger County', 'Willacy County',\n",
       "       'Williams County', 'Winkler County', 'Winnebago County',\n",
       "       'Winona County', 'Wood County', 'Woodford County', 'Woods County',\n",
       "       'Woodward County', 'Worcester County', 'Worth County',\n",
       "       'Wright County', 'Wyoming County', 'Young County', 'Zapata County'],\n",
       "      dtype=object)"
      ]
     },
     "execution_count": 8,
     "metadata": {},
     "output_type": "execute_result"
    }
   ],
   "source": [
    "np.unique(X_df[\"t_county\"])"
   ]
  },
  {
   "cell_type": "code",
   "execution_count": 9,
   "id": "0dafb309",
   "metadata": {},
   "outputs": [],
   "source": [
    "X_df[\"t_state\"] = X_df[\"t_state\"].astype('category').cat.codes\n",
    "X_df[\"t_county\"] = X_df[\"t_county\"].astype('category').cat.codes"
   ]
  },
  {
   "cell_type": "code",
   "execution_count": 10,
   "id": "8fa5b0ee",
   "metadata": {},
   "outputs": [
    {
     "data": {
      "text/plain": [
       "array([ 0,  1,  2,  3,  4,  5,  6,  7,  8,  9, 10, 11, 12, 13, 14, 15, 16,\n",
       "       17, 18, 19, 20, 21, 22, 23, 24, 25, 26, 27, 28, 29, 30, 31, 32, 33,\n",
       "       34, 35, 36, 37, 38, 39, 40, 41], dtype=int8)"
      ]
     },
     "execution_count": 10,
     "metadata": {},
     "output_type": "execute_result"
    }
   ],
   "source": [
    "np.unique(X_df[\"t_state\"])"
   ]
  },
  {
   "cell_type": "code",
   "execution_count": 11,
   "id": "7c2d94d6",
   "metadata": {},
   "outputs": [
    {
     "data": {
      "text/plain": [
       "array([  0,   1,   2,   3,   4,   5,   6,   7,   8,   9,  10,  11,  12,\n",
       "        13,  14,  15,  16,  17,  18,  19,  20,  21,  22,  23,  24,  25,\n",
       "        26,  27,  28,  29,  30,  31,  32,  33,  34,  35,  36,  37,  38,\n",
       "        39,  40,  41,  42,  43,  44,  45,  46,  47,  48,  49,  50,  51,\n",
       "        52,  53,  54,  55,  56,  57,  58,  59,  60,  61,  62,  63,  64,\n",
       "        65,  66,  67,  68,  69,  70,  71,  72,  73,  74,  75,  76,  77,\n",
       "        78,  79,  80,  81,  82,  83,  84,  85,  86,  87,  88,  89,  90,\n",
       "        91,  92,  93,  94,  95,  96,  97,  98,  99, 100, 101, 102, 103,\n",
       "       104, 105, 106, 107, 108, 109, 110, 111, 112, 113, 114, 115, 116,\n",
       "       117, 118, 119, 120, 121, 122, 123, 124, 125, 126, 127, 128, 129,\n",
       "       130, 131, 132, 133, 134, 135, 136, 137, 138, 139, 140, 141, 142,\n",
       "       143, 144, 145, 146, 147, 148, 149, 150, 151, 152, 153, 154, 155,\n",
       "       156, 157, 158, 159, 160, 161, 162, 163, 164, 165, 166, 167, 168,\n",
       "       169, 170, 171, 172, 173, 174, 175, 176, 177, 178, 179, 180, 181,\n",
       "       182, 183, 184, 185, 186, 187, 188, 189, 190, 191, 192, 193, 194,\n",
       "       195, 196, 197, 198, 199, 200, 201, 202, 203, 204, 205, 206, 207,\n",
       "       208, 209, 210, 211, 212, 213, 214, 215, 216, 217, 218, 219, 220,\n",
       "       221, 222, 223, 224, 225, 226, 227, 228, 229, 230, 231, 232, 233,\n",
       "       234, 235, 236, 237, 238, 239, 240, 241, 242, 243, 244, 245, 246,\n",
       "       247, 248, 249, 250, 251, 252, 253, 254, 255, 256, 257, 258, 259,\n",
       "       260, 261, 262, 263, 264, 265, 266, 267, 268, 269, 270, 271, 272,\n",
       "       273, 274, 275, 276, 277, 278, 279, 280, 281, 282, 283, 284, 285,\n",
       "       286, 287, 288, 289, 290, 291, 292, 293, 294, 295, 296, 297, 298,\n",
       "       299, 300, 301, 302, 303, 304, 305, 306, 307, 308, 309, 310, 311,\n",
       "       312, 313, 314, 315, 316, 317, 318, 319, 320, 321, 322, 323, 324,\n",
       "       325, 326, 327, 328, 329, 330, 331, 332, 333, 334, 335, 336, 337,\n",
       "       338, 339, 340, 341, 342, 343, 344, 345, 346, 347, 348, 349, 350,\n",
       "       351, 352, 353, 354, 355, 356, 357, 358, 359, 360, 361, 362, 363,\n",
       "       364, 365, 366, 367, 368, 369, 370, 371, 372, 373, 374, 375, 376,\n",
       "       377, 378, 379, 380, 381, 382, 383, 384, 385, 386, 387, 388, 389,\n",
       "       390, 391, 392, 393, 394, 395, 396, 397, 398, 399, 400, 401, 402,\n",
       "       403, 404, 405, 406, 407, 408, 409, 410, 411, 412, 413, 414, 415,\n",
       "       416, 417, 418, 419, 420, 421, 422, 423, 424, 425, 426, 427, 428,\n",
       "       429, 430, 431, 432, 433, 434, 435, 436, 437, 438, 439, 440, 441,\n",
       "       442, 443, 444, 445, 446, 447], dtype=int16)"
      ]
     },
     "execution_count": 11,
     "metadata": {},
     "output_type": "execute_result"
    }
   ],
   "source": [
    "np.unique(X_df[\"t_county\"])"
   ]
  },
  {
   "cell_type": "code",
   "execution_count": 12,
   "id": "f426a063",
   "metadata": {},
   "outputs": [
    {
     "name": "stdout",
     "output_type": "stream",
     "text": [
      "<class 'pandas.core.frame.DataFrame'>\n",
      "Int64Index: 49999 entries, 46171 to 56422\n",
      "Data columns (total 10 columns):\n",
      " #   Column    Non-Null Count  Dtype  \n",
      "---  ------    --------------  -----  \n",
      " 0   t_state   49999 non-null  int8   \n",
      " 1   t_county  49999 non-null  int16  \n",
      " 2   p_year    49999 non-null  float64\n",
      " 3   retrofit  49999 non-null  float64\n",
      " 4   t_hh      49999 non-null  float64\n",
      " 5   t_rd      49999 non-null  float64\n",
      " 6   t_rsa     49999 non-null  float64\n",
      " 7   t_ttlh    49999 non-null  float64\n",
      " 8   xlong     49999 non-null  float64\n",
      " 9   ylat      49999 non-null  float64\n",
      "dtypes: float64(8), int16(1), int8(1)\n",
      "memory usage: 3.6 MB\n"
     ]
    }
   ],
   "source": [
    "X_num = X_df.drop(columns=[\"t_state\", \"t_county\"])\n",
    "\n",
    "scaler = StandardScaler()\n",
    "X_num_std = scaler.fit_transform(X_num.to_numpy())\n",
    "\n",
    "for i, col in enumerate(X_num.columns):\n",
    "    X_df[col] = X_num_std[:, i]\n",
    "\n",
    "X_df.info()"
   ]
  },
  {
   "cell_type": "code",
   "execution_count": 13,
   "id": "189d2763",
   "metadata": {},
   "outputs": [
    {
     "name": "stdout",
     "output_type": "stream",
     "text": [
      "torch.Size([49999, 10])\n",
      "torch.Size([49999])\n"
     ]
    }
   ],
   "source": [
    "X = torch.tensor(X_df.to_numpy())\n",
    "y = torch.tensor(y_df.to_numpy().reshape(-1))\n",
    "\n",
    "print(X.shape)\n",
    "print(y.shape)"
   ]
  },
  {
   "cell_type": "code",
   "execution_count": 14,
   "id": "04c83221",
   "metadata": {},
   "outputs": [],
   "source": [
    "pickle.dump(scaler, open(\"preprocessed_data/fitted_scaler.pkl\", \"wb\"))\n",
    "pickle.dump(X, open(\"preprocessed_data/X_train_tensor.pkl\", \"wb\"))\n",
    "pickle.dump(y, open(\"preprocessed_data/y_train_tensor.pkl\", \"wb\"))"
   ]
  },
  {
   "cell_type": "code",
   "execution_count": null,
   "id": "080bd68f",
   "metadata": {},
   "outputs": [],
   "source": []
  }
 ],
 "metadata": {
  "kernelspec": {
   "display_name": "Python 3",
   "language": "python",
   "name": "python3"
  },
  "language_info": {
   "codemirror_mode": {
    "name": "ipython",
    "version": 3
   },
   "file_extension": ".py",
   "mimetype": "text/x-python",
   "name": "python",
   "nbconvert_exporter": "python",
   "pygments_lexer": "ipython3",
   "version": "3.8.8"
  }
 },
 "nbformat": 4,
 "nbformat_minor": 5
}
