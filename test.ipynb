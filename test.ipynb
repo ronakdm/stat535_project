{
 "cells": [
  {
   "cell_type": "code",
   "execution_count": 1,
   "id": "5fe3d451",
   "metadata": {},
   "outputs": [],
   "source": [
    "import pickle\n",
    "import numpy as np\n",
    "import torch\n",
    "from model import FeedForwardRegressionNet"
   ]
  },
  {
   "cell_type": "code",
   "execution_count": 2,
   "id": "9b9201db",
   "metadata": {},
   "outputs": [
    {
     "data": {
      "text/plain": [
       "pandas.core.frame.DataFrame"
      ]
     },
     "execution_count": 2,
     "metadata": {},
     "output_type": "execute_result"
    }
   ],
   "source": [
    "X_train = pickle.load(open(\"data/X_train.pkl\", \"rb\"))\n",
    "X_test = pickle.load(open(\"data/X_test.pkl\", \"rb\"))\n",
    "type(X_test)"
   ]
  },
  {
   "cell_type": "code",
   "execution_count": 3,
   "id": "6cd0e832",
   "metadata": {},
   "outputs": [
    {
     "name": "stdout",
     "output_type": "stream",
     "text": [
      "<class 'pandas.core.frame.DataFrame'>\n",
      "RangeIndex: 10000 entries, 0 to 9999\n",
      "Data columns (total 11 columns):\n",
      " #   Column         Non-Null Count  Dtype  \n",
      "---  ------         --------------  -----  \n",
      " 0   t_state        10000 non-null  object \n",
      " 1   t_county       10000 non-null  object \n",
      " 2   p_year         10000 non-null  int64  \n",
      " 3   retrofit       10000 non-null  int64  \n",
      " 4   retrofit_year  952 non-null    float64\n",
      " 5   t_hh           10000 non-null  float64\n",
      " 6   t_rd           10000 non-null  float64\n",
      " 7   t_rsa          10000 non-null  float64\n",
      " 8   t_ttlh         10000 non-null  float64\n",
      " 9   xlong          10000 non-null  float64\n",
      " 10  ylat           10000 non-null  float64\n",
      "dtypes: float64(7), int64(2), object(2)\n",
      "memory usage: 859.5+ KB\n"
     ]
    }
   ],
   "source": [
    "X_test.info()"
   ]
  },
  {
   "cell_type": "code",
   "execution_count": 4,
   "id": "a5012366",
   "metadata": {},
   "outputs": [
    {
     "name": "stdout",
     "output_type": "stream",
     "text": [
      "<class 'pandas.core.frame.DataFrame'>\n",
      "Int64Index: 50000 entries, 46171 to 56422\n",
      "Data columns (total 11 columns):\n",
      " #   Column         Non-Null Count  Dtype  \n",
      "---  ------         --------------  -----  \n",
      " 0   t_state        50000 non-null  object \n",
      " 1   t_county       50000 non-null  object \n",
      " 2   p_year         50000 non-null  int64  \n",
      " 3   retrofit       50000 non-null  int64  \n",
      " 4   retrofit_year  4636 non-null   float64\n",
      " 5   t_hh           50000 non-null  float64\n",
      " 6   t_rd           49999 non-null  float64\n",
      " 7   t_rsa          49999 non-null  float64\n",
      " 8   t_ttlh         49999 non-null  float64\n",
      " 9   xlong          50000 non-null  float64\n",
      " 10  ylat           50000 non-null  float64\n",
      "dtypes: float64(7), int64(2), object(2)\n",
      "memory usage: 4.6+ MB\n"
     ]
    }
   ],
   "source": [
    "# Check that columns are in the same order.\n",
    "X_train.info()"
   ]
  },
  {
   "cell_type": "code",
   "execution_count": 5,
   "id": "af065499",
   "metadata": {},
   "outputs": [],
   "source": [
    "X_df = X_test.drop(columns=[\"retrofit_year\"])\n",
    "X_df[\"t_state\"] = X_df[\"t_state\"].astype('category').cat.codes\n",
    "X_df[\"t_county\"] = X_df[\"t_county\"].astype('category').cat.codes"
   ]
  },
  {
   "cell_type": "code",
   "execution_count": 6,
   "id": "90a292ab",
   "metadata": {},
   "outputs": [
    {
     "name": "stdout",
     "output_type": "stream",
     "text": [
      "[ 0  1  2  3  4  5  6  7  8  9 10 11 12 13 14 15 16 17 18 19 20 21 22 23\n",
      " 24 25 26 27 28 29 30 31 32 33 34 35 36 37 38 39 40]\n",
      "[  0   1   2   3   4   5   6   7   8   9  10  11  12  13  14  15  16  17\n",
      "  18  19  20  21  22  23  24  25  26  27  28  29  30  31  32  33  34  35\n",
      "  36  37  38  39  40  41  42  43  44  45  46  47  48  49  50  51  52  53\n",
      "  54  55  56  57  58  59  60  61  62  63  64  65  66  67  68  69  70  71\n",
      "  72  73  74  75  76  77  78  79  80  81  82  83  84  85  86  87  88  89\n",
      "  90  91  92  93  94  95  96  97  98  99 100 101 102 103 104 105 106 107\n",
      " 108 109 110 111 112 113 114 115 116 117 118 119 120 121 122 123 124 125\n",
      " 126 127 128 129 130 131 132 133 134 135 136 137 138 139 140 141 142 143\n",
      " 144 145 146 147 148 149 150 151 152 153 154 155 156 157 158 159 160 161\n",
      " 162 163 164 165 166 167 168 169 170 171 172 173 174 175 176 177 178 179\n",
      " 180 181 182 183 184 185 186 187 188 189 190 191 192 193 194 195 196 197\n",
      " 198 199 200 201 202 203 204 205 206 207 208 209 210 211 212 213 214 215\n",
      " 216 217 218 219 220 221 222 223 224 225 226 227 228 229 230 231 232 233\n",
      " 234 235 236 237 238 239 240 241 242 243 244 245 246 247 248 249 250 251\n",
      " 252 253 254 255 256 257 258 259 260 261 262 263 264 265 266 267 268 269\n",
      " 270 271 272 273 274 275 276 277 278 279 280 281 282 283 284 285 286 287\n",
      " 288 289 290 291 292 293 294 295 296 297 298 299 300 301 302 303 304 305\n",
      " 306 307 308 309 310 311 312 313 314 315 316 317 318 319 320 321 322 323\n",
      " 324 325 326 327 328 329 330 331 332 333 334 335 336 337 338 339 340 341\n",
      " 342 343 344 345 346 347 348 349 350 351 352 353 354 355 356 357 358 359\n",
      " 360 361 362 363 364 365 366 367 368 369 370 371 372 373 374 375 376 377\n",
      " 378 379 380 381 382 383 384 385 386 387 388 389 390 391 392 393 394 395\n",
      " 396 397 398 399 400 401 402 403 404 405 406 407 408 409 410 411 412 413]\n"
     ]
    }
   ],
   "source": [
    "print(np.unique(X_df[\"t_state\"]))\n",
    "print(np.unique(X_df[\"t_county\"]))"
   ]
  },
  {
   "cell_type": "code",
   "execution_count": 7,
   "id": "bcdb87e7",
   "metadata": {},
   "outputs": [
    {
     "name": "stdout",
     "output_type": "stream",
     "text": [
      "(10000, 8)\n",
      "<class 'pandas.core.frame.DataFrame'>\n",
      "RangeIndex: 10000 entries, 0 to 9999\n",
      "Data columns (total 10 columns):\n",
      " #   Column    Non-Null Count  Dtype  \n",
      "---  ------    --------------  -----  \n",
      " 0   t_state   10000 non-null  int8   \n",
      " 1   t_county  10000 non-null  int16  \n",
      " 2   p_year    10000 non-null  float64\n",
      " 3   retrofit  10000 non-null  float64\n",
      " 4   t_hh      10000 non-null  float64\n",
      " 5   t_rd      10000 non-null  float64\n",
      " 6   t_rsa     10000 non-null  float64\n",
      " 7   t_ttlh    10000 non-null  float64\n",
      " 8   xlong     10000 non-null  float64\n",
      " 9   ylat      10000 non-null  float64\n",
      "dtypes: float64(8), int16(1), int8(1)\n",
      "memory usage: 654.4 KB\n"
     ]
    }
   ],
   "source": [
    "# Apply standardization.\n",
    "scaler = pickle.load(open(\"preprocessed_data/fitted_scaler.pkl\", \"rb\"))\n",
    "\n",
    "X_num = X_df.drop(columns=[\"t_state\", \"t_county\"])\n",
    "print(X_num.shape)\n",
    "X_num_std = scaler.transform(X_num.to_numpy())\n",
    "\n",
    "for i, col in enumerate(X_num.columns):\n",
    "    X_df[col] = X_num_std[:, i]\n",
    "\n",
    "X_df.info()"
   ]
  },
  {
   "cell_type": "code",
   "execution_count": 8,
   "id": "e5462c76",
   "metadata": {},
   "outputs": [],
   "source": [
    "pickle.dump(torch.tensor(X_df.to_numpy()).float(), open(\"preprocessed_data/X_test_tensor.pkl\", \"wb\"))"
   ]
  },
  {
   "cell_type": "code",
   "execution_count": 9,
   "id": "7af5e9bc",
   "metadata": {},
   "outputs": [],
   "source": [
    "X_tr_tensor = pickle.load(open(\"preprocessed_data/X_train_tensor.pkl\", \"rb\"))\n",
    "X_te_tensor = pickle.load(open(\"preprocessed_data/X_test_tensor.pkl\", \"rb\"))\n",
    "hyperparameters = pickle.load(open(\"best_hyperparameters.pkl\", \"rb\"))\n",
    "\n",
    "HIDDEN_DIMS = hyperparameters[\"hidden_dims\"]\n",
    "LEARNING_RATE = hyperparameters[\"learning_rate\"]\n",
    "EMBED_DIM0 = hyperparameters[\"embed_dim0\"]\n",
    "EMBED_DIM1 = hyperparameters[\"embed_dim1\"]\n",
    "EPOCHS = hyperparameters[\"epochs\"]\n",
    "\n",
    "input_dim = X_tr_tensor.shape[1] - 2\n",
    "vocab_size0 = len(np.unique(X_tr_tensor[:, 0]))\n",
    "vocab_size1 = len(np.unique(X_tr_tensor[:, 1]))\n",
    "output_dim = 1\n",
    "\n",
    "model = FeedForwardRegressionNet(\n",
    "    input_dim,\n",
    "    vocab_size0,\n",
    "    vocab_size1,\n",
    "    EMBED_DIM0,\n",
    "    EMBED_DIM1,\n",
    "    HIDDEN_DIMS,\n",
    "    output_dim,\n",
    ")"
   ]
  },
  {
   "cell_type": "code",
   "execution_count": 10,
   "id": "c1e7f660",
   "metadata": {},
   "outputs": [
    {
     "data": {
      "text/plain": [
       "FeedForwardRegressionNet(\n",
       "  (embed0): Embedding(42, 16)\n",
       "  (embed1): Embedding(448, 8)\n",
       "  (layers): ModuleList(\n",
       "    (0): Linear(in_features=32, out_features=128, bias=True)\n",
       "    (1): Linear(in_features=128, out_features=64, bias=True)\n",
       "    (2): Linear(in_features=64, out_features=8, bias=True)\n",
       "  )\n",
       "  (output_layer): Linear(in_features=8, out_features=1, bias=True)\n",
       ")"
      ]
     },
     "execution_count": 10,
     "metadata": {},
     "output_type": "execute_result"
    }
   ],
   "source": [
    "model.load_state_dict(torch.load(\"best_model.pt\"))\n",
    "model.eval()"
   ]
  },
  {
   "cell_type": "code",
   "execution_count": 12,
   "id": "0950b840",
   "metadata": {},
   "outputs": [
    {
     "data": {
      "text/plain": [
       "torch.Size([49999])"
      ]
     },
     "execution_count": 12,
     "metadata": {},
     "output_type": "execute_result"
    }
   ],
   "source": [
    "y_tr = model(X_tr_tensor)\n",
    "y_tr.shape"
   ]
  },
  {
   "cell_type": "code",
   "execution_count": 13,
   "id": "c681a93a",
   "metadata": {},
   "outputs": [
    {
     "data": {
      "text/plain": [
       "torch.Size([10000])"
      ]
     },
     "execution_count": 13,
     "metadata": {},
     "output_type": "execute_result"
    }
   ],
   "source": [
    "y_te = model(X_te_tensor)\n",
    "y_te.shape"
   ]
  },
  {
   "cell_type": "code",
   "execution_count": 14,
   "id": "d2b5ed74",
   "metadata": {},
   "outputs": [
    {
     "name": "stdout",
     "output_type": "stream",
     "text": [
      "tensor([1552.5631, 1359.0845, 1520.4363, 1487.2595, 1562.6611, 2642.2395,\n",
      "        1892.9683,  154.3035, 2323.7344,   80.5678, 2292.4368, 3482.4980,\n",
      "         698.4472, 1698.3464, 1645.1364, 1849.9604, 1539.4504, 1649.7068,\n",
      "        1341.0472, 2033.6039], grad_fn=<SliceBackward>)\n",
      "tensor([5195.4097, 2003.1332, 2787.6680, 1490.4749, 1237.4575, 2699.2048,\n",
      "        2047.2952, 2741.8706, 1260.9941, 1091.7632, 1720.9158, 2125.8259,\n",
      "        1843.2571, 1679.3566, 2764.8623, 1580.8145, 2252.8062, 1465.7002,\n",
      "        2034.4580, 1127.5859], grad_fn=<SliceBackward>)\n"
     ]
    }
   ],
   "source": [
    "print(y_tr[0:20])\n",
    "print(y_te[0:20])"
   ]
  },
  {
   "cell_type": "code",
   "execution_count": 15,
   "id": "b922ab59",
   "metadata": {},
   "outputs": [],
   "source": [
    "import matplotlib.pyplot as plt"
   ]
  },
  {
   "cell_type": "code",
   "execution_count": 21,
   "id": "d9ebc2db",
   "metadata": {},
   "outputs": [
    {
     "data": {
      "text/plain": [
       "(array([9.33988666e-05, 1.72032435e-04, 5.06654567e-04, 4.49481904e-04,\n",
       "        2.81913579e-04, 1.37522949e-04, 5.49405040e-05, 1.28766806e-05,\n",
       "        7.38263023e-06, 6.86756300e-07]),\n",
       " array([  61.126694,  643.5749  , 1226.0232  , 1808.4713  , 2390.9197  ,\n",
       "        2973.3677  , 3555.816   , 4138.264   , 4720.7124  , 5303.1606  ,\n",
       "        5885.609   ], dtype=float32),\n",
       " <BarContainer object of 10 artists>)"
      ]
     },
     "execution_count": 21,
     "metadata": {},
     "output_type": "execute_result"
    },
    {
     "data": {
      "image/png": "[encoded data removed]",
      "text/plain": [
       "<Figure size 720x360 with 2 Axes>"
      ]
     },
     "metadata": {
      "needs_background": "light"
     },
     "output_type": "display_data"
    }
   ],
   "source": [
    "fig, axes = plt.subplots(2, 1, figsize=(10, 5), sharex=True, sharey=True)\n",
    "\n",
    "axes[0].hist(y_tr.detach().numpy(), density=True)\n",
    "axes[1].hist(y_te.detach().numpy(), density=True)"
   ]
  },
  {
   "cell_type": "code",
   "execution_count": 24,
   "id": "9277dd6d",
   "metadata": {},
   "outputs": [],
   "source": [
    "np.savetxt(\"y.out\", y_te.detach().numpy(), delimiter=\"\\n\", fmt=\"%.10f\")"
   ]
  },
  {
   "cell_type": "code",
   "execution_count": null,
   "id": "40539b8d",
   "metadata": {},
   "outputs": [],
   "source": []
  }
 ],
 "metadata": {
  "kernelspec": {
   "display_name": "Python 3",
   "language": "python",
   "name": "python3"
  },
  "language_info": {
   "codemirror_mode": {
    "name": "ipython",
    "version": 3
   },
   "file_extension": ".py",
   "mimetype": "text/x-python",
   "name": "python",
   "nbconvert_exporter": "python",
   "pygments_lexer": "ipython3",
   "version": "3.8.8"
  }
 },
 "nbformat": 4,
 "nbformat_minor": 5
}
