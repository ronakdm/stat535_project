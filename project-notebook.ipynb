{
 "cells": [
  {
   "cell_type": "code",
   "execution_count": 11,
   "id": "c9558b4e",
   "metadata": {},
   "outputs": [],
   "source": [
    "import pickle\n",
    "import pandas as pd\n",
    "import numpy as np"
   ]
  },
  {
   "cell_type": "code",
   "execution_count": 2,
   "id": "f89d0e8e",
   "metadata": {},
   "outputs": [
    {
     "name": "stdout",
     "output_type": "stream",
     "text": [
      "<class 'pandas.core.frame.DataFrame'>\n",
      "<class 'pandas.core.frame.DataFrame'>\n"
     ]
    }
   ],
   "source": [
    "X_train = pickle.load(open(\"data/X_train.pkl\", \"rb\"))\n",
    "y_train = pickle.load(open(\"data/y_train.pkl\", \"rb\"))\n",
    "\n",
    "print(type(X_train))\n",
    "print(type(y_train))"
   ]
  },
  {
   "cell_type": "code",
   "execution_count": 3,
   "id": "917501c5",
   "metadata": {},
   "outputs": [
    {
     "name": "stdout",
     "output_type": "stream",
     "text": [
      "<class 'pandas.core.frame.DataFrame'>\n",
      "Int64Index: 50000 entries, 46171 to 56422\n",
      "Data columns (total 11 columns):\n",
      " #   Column         Non-Null Count  Dtype  \n",
      "---  ------         --------------  -----  \n",
      " 0   t_state        50000 non-null  object \n",
      " 1   t_county       50000 non-null  object \n",
      " 2   p_year         50000 non-null  int64  \n",
      " 3   retrofit       50000 non-null  int64  \n",
      " 4   retrofit_year  4636 non-null   float64\n",
      " 5   t_hh           50000 non-null  float64\n",
      " 6   t_rd           49999 non-null  float64\n",
      " 7   t_rsa          49999 non-null  float64\n",
      " 8   t_ttlh         49999 non-null  float64\n",
      " 9   xlong          50000 non-null  float64\n",
      " 10  ylat           50000 non-null  float64\n",
      "dtypes: float64(7), int64(2), object(2)\n",
      "memory usage: 4.6+ MB\n"
     ]
    }
   ],
   "source": [
    "X_train.info(verbose=True)"
   ]
  },
  {
   "cell_type": "code",
   "execution_count": 4,
   "id": "e821ef9e",
   "metadata": {},
   "outputs": [
    {
     "name": "stdout",
     "output_type": "stream",
     "text": [
      "<class 'pandas.core.frame.DataFrame'>\n",
      "Int64Index: 50000 entries, 46171 to 56422\n",
      "Data columns (total 1 columns):\n",
      " #   Column  Non-Null Count  Dtype\n",
      "---  ------  --------------  -----\n",
      " 0   t_cap   50000 non-null  int64\n",
      "dtypes: int64(1)\n",
      "memory usage: 781.2 KB\n"
     ]
    }
   ],
   "source": [
    "y_train.info(verbose=True)"
   ]
  },
  {
   "cell_type": "code",
   "execution_count": 10,
   "id": "acb4dee6",
   "metadata": {},
   "outputs": [
    {
     "name": "stdout",
     "output_type": "stream",
     "text": [
      "<class 'pandas.core.frame.DataFrame'>\n",
      "Int64Index: 49999 entries, 46171 to 56422\n",
      "Data columns (total 10 columns):\n",
      " #   Column    Non-Null Count  Dtype  \n",
      "---  ------    --------------  -----  \n",
      " 0   t_state   49999 non-null  object \n",
      " 1   t_county  49999 non-null  object \n",
      " 2   p_year    49999 non-null  int64  \n",
      " 3   retrofit  49999 non-null  int64  \n",
      " 4   t_hh      49999 non-null  float64\n",
      " 5   t_rd      49999 non-null  float64\n",
      " 6   t_rsa     49999 non-null  float64\n",
      " 7   t_ttlh    49999 non-null  float64\n",
      " 8   xlong     49999 non-null  float64\n",
      " 9   ylat      49999 non-null  float64\n",
      "dtypes: float64(6), int64(2), object(2)\n",
      "memory usage: 4.2+ MB\n"
     ]
    }
   ],
   "source": [
    "# Preprocessing.\n",
    "\n",
    "X_arr = X_train.drop(columns=[\"retrofit_year\"]).dropna()\n",
    "X_arr.info()"
   ]
  },
  {
   "cell_type": "code",
   "execution_count": 12,
   "id": "f93d0748",
   "metadata": {},
   "outputs": [
    {
     "data": {
      "text/plain": [
       "array(['AK', 'AZ', 'CA', 'CO', 'CT', 'HI', 'IA', 'ID', 'IL', 'IN', 'KS',\n",
       "       'MA', 'MD', 'ME', 'MI', 'MN', 'MO', 'MT', 'NC', 'ND', 'NE', 'NH',\n",
       "       'NJ', 'NM', 'NV', 'NY', 'OH', 'OK', 'OR', 'PA', 'PR', 'RI', 'SD',\n",
       "       'TN', 'TX', 'UT', 'VA', 'VT', 'WA', 'WI', 'WV', 'WY'], dtype=object)"
      ]
     },
     "execution_count": 12,
     "metadata": {},
     "output_type": "execute_result"
    }
   ],
   "source": [
    "np.unique(X_arr[\"t_state\"])"
   ]
  },
  {
   "cell_type": "code",
   "execution_count": 14,
   "id": "4fa45181",
   "metadata": {},
   "outputs": [
    {
     "data": {
      "text/plain": [
       "array(['Adair County', 'Adams County', 'Alameda County', 'Albany County',\n",
       "       'Aleutians East Borough', 'Aleutians West Census Area',\n",
       "       'Alfalfa County', 'Allen County', 'Anderson County',\n",
       "       'Andrews County', 'Antelope County', 'Archer County',\n",
       "       'Armstrong County', 'Aroostook County', 'Atchison County',\n",
       "       'Atlantic County', 'Audubon County', 'Aurora County',\n",
       "       'Baca County', 'Bailey County', 'Baker County', 'Barber County',\n",
       "       'Barbour County', 'Barnes County', 'Barnstable County',\n",
       "       'Barton County', 'Baylor County', 'Beaver County', 'Becker County',\n",
       "       'Beckham County', 'Bee County', 'Bennington County', 'Bent County',\n",
       "       'Benton County', 'Berkshire County', 'Bethel Census Area',\n",
       "       'Bingham County', 'Blaine County', 'Blair County',\n",
       "       'Bon Homme County', 'Bonneville County', 'Boone County',\n",
       "       'Borden County', 'Bowman County', 'Bradford County',\n",
       "       'Briscoe County', 'Bristol County', 'Brookings County',\n",
       "       'Brown County', 'Brule County', 'Buena Vista County',\n",
       "       'Bureau County', 'Burke County', 'Burleigh County',\n",
       "       'Butler County', 'Butte County', 'Caddo County',\n",
       "       'Caledonia County', 'Calhoun County', 'Callahan County',\n",
       "       'Cambria County', 'Cameron County', 'Campbell County',\n",
       "       'Canadian County', 'Carbon County', 'Carroll County',\n",
       "       'Carson County', 'Carter County', 'Cascade County', 'Cass County',\n",
       "       'Cassia County', 'Castro County', 'Cavalier County',\n",
       "       'Cedar County', 'Ceiba Municipio', 'Centre County',\n",
       "       'Cerro Gordo County', 'Champaign County', 'Charles Mix County',\n",
       "       'Chautauqua County', 'Chaves County', 'Cherokee County',\n",
       "       'Cheyenne County', 'Chippewa County', 'Chittenden County',\n",
       "       'Cibola County', 'Clark County', 'Clay County', 'Clinton County',\n",
       "       'Cloud County', 'Cochise County', 'Cochran County',\n",
       "       'Coconino County', 'Codington County', 'Coffey County',\n",
       "       'Coke County', 'Columbia County', 'Comanche County',\n",
       "       'Concho County', 'Contra Costa County', 'Converse County',\n",
       "       'Cooke County', 'Coos County', 'Cottonwood County',\n",
       "       'Crawford County', 'Crockett County', 'Crosby County',\n",
       "       'Curry County', 'Custer County', 'Cuyahoga County', 'Dade County',\n",
       "       'Dallas County', 'Dane County', 'Darke County', 'Dawson County',\n",
       "       'Day County', 'De Baca County', 'DeKalb County',\n",
       "       'Deaf Smith County', 'Delaware County', 'Delta County',\n",
       "       'Denali Borough', 'Denton County', 'Deuel County', 'Dewey County',\n",
       "       'Dickens County', 'Dickey County', 'Dickinson County',\n",
       "       'Dixon County', 'Dodge County', 'Donley County', 'Douglas County',\n",
       "       'Duval County', 'Eastland County', 'Ector County',\n",
       "       'El Paso County', 'Elbert County', 'Elk County', 'Ellis County',\n",
       "       'Ellsworth County', 'Elmore County', 'Emmet County',\n",
       "       'Emmons County', 'Erath County', 'Erie County', 'Essex County',\n",
       "       'Fallon County', 'Faribault County', 'Fayette County',\n",
       "       'Fillmore County', 'Fisher County', 'Floyd County', 'Foard County',\n",
       "       'Fond du Lac County', 'Ford County', 'Franklin County',\n",
       "       'Freeborn County', 'Gage County', 'Garfield County',\n",
       "       'Garrett County', 'Garza County', 'Gentry County',\n",
       "       'Gilliam County', 'Glacier County', 'Glasscock County',\n",
       "       'Grady County', 'Grafton County', 'Grant County', 'Gratiot County',\n",
       "       'Gray County', 'Grays Harbor County', 'Greenbrier County',\n",
       "       'Greene County', 'Griggs County', 'Grundy County',\n",
       "       'Guadalupe County', 'Guthrie County', 'Hale County',\n",
       "       'Hamilton County', 'Hampden County', 'Hancock County',\n",
       "       'Hand County', 'Hansford County', 'Hardeman County',\n",
       "       'Hardin County', 'Harper County', 'Hartley County',\n",
       "       'Haskell County', 'Hawaii County', 'Hemphill County',\n",
       "       'Henry County', 'Herkimer County', 'Hettinger County',\n",
       "       'Hidalgo County', 'Hillsborough County', 'Hillsdale County',\n",
       "       'Holt County', 'Honolulu County', 'Howard County',\n",
       "       'Huerfano County', 'Huron County', 'Hutchinson County',\n",
       "       'Hyde County', 'Ida County', 'Imperial County', 'Iowa County',\n",
       "       'Irion County', 'Iroquois County', 'Isabella County',\n",
       "       'Jack County', 'Jackson County', 'Jasper County', 'Jay County',\n",
       "       'Jefferson County', 'Jerauld County', 'Jim Hogg County',\n",
       "       'Johnston County', 'Judith Basin County', 'Kandiyohi County',\n",
       "       'Kankakee County', 'Kay County', 'Kenai Peninsula Borough',\n",
       "       'Kenedy County', 'Kent County', 'Kern County', 'Kewaunee County',\n",
       "       'Keya Paha County', 'Kimball County', 'Kingfisher County',\n",
       "       'Kingman County', 'Kinney County', 'Kiowa County',\n",
       "       'Kit Carson County', 'Kittitas County', 'Klickitat County',\n",
       "       'Knox County', 'Kodiak Island Borough', 'Kossuth County',\n",
       "       'LaMoure County', 'LaSalle County', 'Lafayette County',\n",
       "       'Lamb County', 'Laramie County', 'Las Animas County',\n",
       "       'Lawrence County', 'Lea County', 'Lee County', 'Lewis County',\n",
       "       'Limestone County', 'Lincoln County', 'Litchfield County',\n",
       "       'Livingston County', 'Logan County', 'Los Angeles County',\n",
       "       'Lubbock County', 'Luna County', 'Luzerne County',\n",
       "       'Lycoming County', 'Lynn County', 'Lyon County', 'Macon County',\n",
       "       'Madison County', 'Mahaska County', 'Major County',\n",
       "       'Marion County', 'Marshall County', 'Martin County',\n",
       "       'Mason County', 'Matagorda County', 'Matanuska-Susitna Borough',\n",
       "       'Maui County', 'McCulloch County', 'McDonough County',\n",
       "       'McHenry County', 'McIntosh County', 'McLean County',\n",
       "       'McLennan County', 'McPherson County', 'Meagher County',\n",
       "       'Meeker County', 'Mercer County', 'Millard County', 'Mills County',\n",
       "       'Mineral County', 'Missaukee County', 'Mitchell County',\n",
       "       'Mohave County', 'Monroe County', 'Moore County', 'Morrow County',\n",
       "       'Morton County', 'Mower County', 'Murray County',\n",
       "       'Naguabo Municipio', 'Natrona County', 'Navajo County',\n",
       "       'Nemaha County', 'Neosho County', 'Ness County', 'Noble County',\n",
       "       'Nobles County', 'Nodaway County', 'Nolan County',\n",
       "       'Nome Census Area', 'Northampton County',\n",
       "       'Northwest Arctic Borough', 'Nueces County', \"O'Brien County\",\n",
       "       'Ochiltree County', 'Oldham County', 'Oliver County',\n",
       "       'Oneida County', 'Ontario County', 'Orleans County',\n",
       "       'Osage County', 'Osceola County', 'Oxford County',\n",
       "       'Pacific County', 'Palo Alto County', 'Parmer County',\n",
       "       'Pasquotank County', 'Paulding County', 'Pecos County',\n",
       "       'Penobscot County', 'Perquimans County', 'Pierce County',\n",
       "       'Pipestone County', 'Piscataquis County', 'Platte County',\n",
       "       'Plymouth County', 'Pocahontas County', 'Pontotoc County',\n",
       "       'Pottawattamie County', 'Potter County', 'Power County',\n",
       "       'Poweshiek County', 'Pratt County', 'Preston County',\n",
       "       'Providence County', 'Prowers County', 'Pushmataha County',\n",
       "       'Quay County', 'Racine County', 'Randall County',\n",
       "       'Randolph County', 'Reagan County', 'Refugio County',\n",
       "       'Richardson County', 'Riverside County', 'Roberts County',\n",
       "       'Rock County', 'Roger Mills County', 'Rolette County',\n",
       "       'Roosevelt County', 'Rush County', 'Sac County', 'Saginaw County',\n",
       "       'Saline County', 'San Bernardino County', 'San Diego County',\n",
       "       'San Joaquin County', 'San Juan County', 'San Patricio County',\n",
       "       'Sanilac County', 'Santa Isabel Municipio', 'Schleicher County',\n",
       "       'Schuyler County', 'Schuylkill County', 'Scurry County',\n",
       "       'Shackelford County', 'Shasta County', 'Sherman County',\n",
       "       'Solano County', 'Somerset County', 'St. Louis County',\n",
       "       'Stark County', 'Starr County', 'Stearns County', 'Steele County',\n",
       "       'Stephens County', 'Stephenson County', 'Sterling County',\n",
       "       'Steuben County', 'Stillwater County', 'Stonewall County',\n",
       "       'Story County', 'Stutsman County', 'Suffolk County',\n",
       "       'Sullivan County', 'Sumner County', 'Sweet Grass County',\n",
       "       'Tama County', 'Taylor County', 'Tazewell County', 'Teton County',\n",
       "       'Texas County', 'Thomas County', 'Tioga County', 'Tipton County',\n",
       "       'Tom Green County', 'Toole County', 'Torrance County',\n",
       "       'Trego County', 'Tucker County', 'Tuscola County',\n",
       "       'Twin Falls County', 'Uinta County', 'Umatilla County',\n",
       "       'Union County', 'Upton County', 'Utah County', 'Val Verde County',\n",
       "       'Van Wert County', 'Vermilion County', 'Wade Hampton Census Area',\n",
       "       'Waldo County', 'Walla Walla County', 'Ward County',\n",
       "       'Warren County', 'Washington County', 'Washita County',\n",
       "       'Watonwan County', 'Wayne County', 'Webb County', 'Webster County',\n",
       "       'Weld County', 'Wheatland County', 'White County',\n",
       "       'White Pine County', 'Whiteside County', 'Whitman County',\n",
       "       'Wichita County', 'Wilbarger County', 'Willacy County',\n",
       "       'Williams County', 'Winkler County', 'Winnebago County',\n",
       "       'Winona County', 'Wood County', 'Woodford County', 'Woods County',\n",
       "       'Woodward County', 'Worcester County', 'Worth County',\n",
       "       'Wright County', 'Wyoming County', 'Young County', 'Zapata County'],\n",
       "      dtype=object)"
      ]
     },
     "execution_count": 14,
     "metadata": {},
     "output_type": "execute_result"
    }
   ],
   "source": [
    "np.unique(X_arr[\"t_county\"])"
   ]
  },
  {
   "cell_type": "code",
   "execution_count": null,
   "id": "0dafb309",
   "metadata": {},
   "outputs": [],
   "source": []
  }
 ],
 "metadata": {
  "kernelspec": {
   "display_name": "Python 3",
   "language": "python",
   "name": "python3"
  },
  "language_info": {
   "codemirror_mode": {
    "name": "ipython",
    "version": 3
   },
   "file_extension": ".py",
   "mimetype": "text/x-python",
   "name": "python",
   "nbconvert_exporter": "python",
   "pygments_lexer": "ipython3",
   "version": "3.8.8"
  }
 },
 "nbformat": 4,
 "nbformat_minor": 5
}
